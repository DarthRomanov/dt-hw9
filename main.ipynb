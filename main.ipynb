{
 "cells": [
  {
   "cell_type": "markdown",
   "metadata": {
    "colab_type": "text",
    "id": "view-in-github"
   },
   "source": [
    "<a href=\"https://colab.research.google.com/github/GFour11/DS_HW9/blob/main/main.ipynb\" target=\"_parent\"><img src=\"https://colab.research.google.com/assets/colab-badge.svg\" alt=\"Open In Colab\"/></a>"
   ]
  },
  {
   "cell_type": "code",
   "execution_count": null,
   "metadata": {
    "id": "Q307cKTQgJTH"
   },
   "outputs": [],
   "source": [
    "import tensorflow as tf\n",
    "from tensorflow.keras import layers, models\n",
    "from tensorflow.keras.utils import to_categorical\n",
    "from tensorflow.keras.datasets import fashion_mnist"
   ]
  },
  {
   "cell_type": "code",
   "execution_count": null,
   "metadata": {
    "id": "LQQQOFtPkVVV"
   },
   "outputs": [],
   "source": [
    "(train_x, train_y), (test_x, test_y) = fashion_mnist.load_data()"
   ]
  },
  {
   "cell_type": "code",
   "execution_count": null,
   "metadata": {
    "colab": {
     "base_uri": "https://localhost:8080/",
     "height": 209
    },
    "id": "YSsSdu71iq9Z",
    "outputId": "16f5dfe0-0278-4105-a7c3-0bbf0f391ec9"
   },
   "outputs": [],
   "source": [
    "import matplotlib.pyplot as plt\n",
    "plt.figure(figsize=(10, 2))\n",
    "\n",
    "for i in range(20):\n",
    "    plt.subplot(2, 10, i + 1)\n",
    "    plt.imshow(train_x[i], cmap='gray')\n",
    "    plt.title(str(train_y[i]))\n",
    "    plt.axis('off')\n",
    "\n",
    "plt.show()"
   ]
  },
  {
   "cell_type": "code",
   "execution_count": null,
   "metadata": {
    "colab": {
     "base_uri": "https://localhost:8080/",
     "height": 157
    },
    "id": "BeIN0_6TyRTM",
    "outputId": "2650cf12-16ac-46b7-e925-7950eb3cf3a2"
   },
   "outputs": [],
   "source": [
    "import numpy as np\n",
    "\n",
    "unique_labels = np.unique(train_y)\n",
    "\n",
    "# Вивід по одному елементу для кожного унікального лейбла\n",
    "plt.figure(figsize=(15, 3))\n",
    "\n",
    "for i, label in enumerate(unique_labels):\n",
    "    # Знаходження індексу першого елемента з поточним лейблом\n",
    "    index = np.where(train_y == label)[0][0]\n",
    "    plt.subplot(1, len(unique_labels), i + 1)\n",
    "    plt.imshow(train_x[index], cmap='gray')\n",
    "\n",
    "    plt.title(f'Label: {label}')\n",
    "    plt.axis('off')\n",
    "\n",
    "plt.show()"
   ]
  },
  {
   "cell_type": "code",
   "execution_count": null,
   "metadata": {
    "colab": {
     "base_uri": "https://localhost:8080/",
     "height": 388
    },
    "id": "mZQe2lgjyyje",
    "outputId": "c99b1718-858d-42d7-c406-f8762238bab1"
   },
   "outputs": [],
   "source": [
    "labels = ['T-shirt', 'trousers', 'sweater', 'dress', 'jacket', 'sandals', 'blouse', 'sneakers', 'bag', 'boots']\n",
    "plt.figure(figsize=(17, 5))\n",
    "unique_labels = unique_labels.astype(np.uint8)\n",
    "\n",
    "for i, label in enumerate(unique_labels):\n",
    "    index = np.where(train_y == label)[0][0]\n",
    "\n",
    "    plt.subplot(1, len(unique_labels), i + 1)\n",
    "    plt.imshow(train_x[index], cmap='binary')\n",
    "    plt.xlabel(labels[label])\n",
    "    print(labels[label])\n",
    "    plt.title(f'Label: {label}')\n",
    "    plt.text(x=4, y=-3, s=i)\n",
    "plt.show()"
   ]
  },
  {
   "cell_type": "code",
   "execution_count": null,
   "metadata": {
    "id": "TfvRTmgs38bu"
   },
   "outputs": [],
   "source": [
    "train_x = train_x.astype('float32') / 255.0\n",
    "test_x = test_x.astype('float32') / 255.0\n",
    "train_y = to_categorical(train_y)\n",
    "test_y = to_categorical(test_y)"
   ]
  },
  {
   "cell_type": "code",
   "execution_count": null,
   "metadata": {
    "id": "XfeE0xCw2lvX"
   },
   "outputs": [],
   "source": [
    "from keras.layers import Dense, Flatten\n",
    "from keras.layers import Dropout\n",
    "\n",
    "model = tf.keras.models.Sequential()\n",
    "model.add(Flatten(input_shape=(28, 28)))\n",
    "model.add(Dense(256, activation='relu'))\n",
    "model.add(Dropout(0.5))\n",
    "model.add(Dense(128, activation='relu'))\n",
    "model.add(Dense(64, activation='relu'))\n",
    "model.add(Dense(10, activation='softmax'))"
   ]
  },
  {
   "cell_type": "code",
   "execution_count": null,
   "metadata": {
    "id": "wvlEhtdl3Tik"
   },
   "outputs": [],
   "source": [
    "\n",
    "model.compile(optimizer='adam', loss='categorical_crossentropy', metrics=['accuracy'])"
   ]
  },
  {
   "cell_type": "code",
   "execution_count": null,
   "metadata": {
    "colab": {
     "base_uri": "https://localhost:8080/"
    },
    "id": "fQnOU6ZM3UOQ",
    "outputId": "0631a94a-346c-45fd-ec1c-be12703b00af"
   },
   "outputs": [],
   "source": [
    "model.fit(train_x, train_y, epochs=50, batch_size=128, validation_split=0.2)"
   ]
  },
  {
   "cell_type": "code",
   "execution_count": null,
   "metadata": {
    "colab": {
     "base_uri": "https://localhost:8080/"
    },
    "id": "pb4-cOd83Yij",
    "outputId": "39cf0a15-c47c-4cf6-d653-91ee77d22b95"
   },
   "outputs": [],
   "source": [
    "test_loss, test_acc = model.evaluate(test_x, test_y)\n",
    "print(f'Test accuracy: {test_acc}')"
   ]
  },
  {
   "cell_type": "code",
   "execution_count": null,
   "metadata": {
    "colab": {
     "base_uri": "https://localhost:8080/",
     "height": 865
    },
    "id": "6RsgveRk9NNx",
    "outputId": "9ae9af6b-1bb0-4825-88d8-367b8e749ba1"
   },
   "outputs": [],
   "source": [
    "predictions = model.predict(test_x[:20])\n",
    "\n",
    "plt.figure(figsize=(15, 10))\n",
    "\n",
    "for i in range(20):\n",
    "    plt.subplot(4, 5, i + 1)\n",
    "    plt.imshow(test_x[i], cmap='binary')\n",
    "    plt.title(f'True: {labels[np.argmax(test_y[i])]}')\n",
    "    plt.xlabel(f\"Predicted: {labels[np.argmax(predictions[i])]}\")\n",
    "    plt.xticks([])\n",
    "    plt.yticks([])\n",
    "\n",
    "\n",
    "plt.subplots_adjust(wspace=0.5, hspace=0.5)\n",
    "\n",
    "plt.show()"
   ]
  }
 ],
 "metadata": {
  "colab": {
   "authorship_tag": "ABX9TyOfyvQUdjFsvHR3EYND2NMd",
   "include_colab_link": true,
   "provenance": []
  },
  "kernelspec": {
   "display_name": "Python 3 (ipykernel)",
   "language": "python",
   "name": "python3"
  },
  "language_info": {
   "codemirror_mode": {
    "name": "ipython",
    "version": 3
   },
   "file_extension": ".py",
   "mimetype": "text/x-python",
   "name": "python",
   "nbconvert_exporter": "python",
   "pygments_lexer": "ipython3",
   "version": "3.11.1"
  }
 },
 "nbformat": 4,
 "nbformat_minor": 4
}
